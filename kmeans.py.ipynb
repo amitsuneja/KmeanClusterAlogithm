{
 "cells": [
  {
   "cell_type": "code",
   "execution_count": 23,
   "metadata": {},
   "outputs": [],
   "source": [
    "%matplotlib inline"
   ]
  },
  {
   "cell_type": "code",
   "execution_count": 24,
   "metadata": {},
   "outputs": [],
   "source": [
    "import numpy as np\n",
    "import matplotlib.pyplot as plt\n",
    "from sklearn.cluster import KMeans\n",
    "from sklearn import metrics"
   ]
  },
  {
   "cell_type": "code",
   "execution_count": 25,
   "metadata": {},
   "outputs": [],
   "source": [
    "# Load input data\n",
    "X = np.loadtxt('data_clustering.txt', delimiter=',')"
   ]
  },
  {
   "cell_type": "code",
   "execution_count": 26,
   "metadata": {},
   "outputs": [
    {
     "data": {
      "text/plain": [
       "array([[ 2.08,  1.05],\n",
       "       [ 2.05,  7.7 ],\n",
       "       [ 4.53,  5.49],\n",
       "       [ 6.23,  1.02],\n",
       "       [ 5.35,  7.86],\n",
       "       [ 2.88,  0.79],\n",
       "       [ 2.32,  8.5 ],\n",
       "       [ 5.06,  5.65],\n",
       "       [ 5.38,  3.53],\n",
       "       [ 6.31,  9.73],\n",
       "       [ 3.41,  2.05],\n",
       "       [ 1.75,  7.38],\n",
       "       [ 3.88,  5.73],\n",
       "       [ 7.22,  2.88],\n",
       "       [ 5.85,  9.11],\n",
       "       [ 3.66,  2.38],\n",
       "       [ 0.45,  7.99],\n",
       "       [ 6.01,  5.83],\n",
       "       [ 7.06,  2.41],\n",
       "       [ 7.47,  8.97],\n",
       "       [ 2.2 ,  2.71],\n",
       "       [ 2.94,  8.71],\n",
       "       [ 5.87,  4.56],\n",
       "       [ 4.57,  1.33],\n",
       "       [ 5.84,  6.54],\n",
       "       [ 3.4 ,  1.  ],\n",
       "       [ 1.44,  8.26],\n",
       "       [ 4.29,  4.69],\n",
       "       [ 8.09,  1.99],\n",
       "       [ 6.48,  9.44],\n",
       "       [ 2.94,  1.78],\n",
       "       [ 0.41,  9.14],\n",
       "       [ 5.42,  4.08],\n",
       "       [ 7.47,  2.15],\n",
       "       [ 5.62,  7.65],\n",
       "       [ 3.71,  1.26],\n",
       "       [ 0.41,  8.9 ],\n",
       "       [ 4.93,  5.73],\n",
       "       [ 7.23,  0.14],\n",
       "       [ 6.77,  9.09],\n",
       "       [ 3.23,  2.64],\n",
       "       [ 1.61,  7.85],\n",
       "       [ 4.7 ,  4.78],\n",
       "       [ 6.86,  2.21],\n",
       "       [ 5.2 ,  9.65],\n",
       "       [ 1.53,  2.93],\n",
       "       [ 0.27,  9.38],\n",
       "       [ 6.17,  5.74],\n",
       "       [ 8.47,  2.44],\n",
       "       [ 5.23,  7.41],\n",
       "       [ 3.27,  1.63],\n",
       "       [ 1.52,  8.8 ],\n",
       "       [ 5.49,  4.5 ],\n",
       "       [ 5.47,  2.81],\n",
       "       [ 5.43,  7.45],\n",
       "       [ 2.51,  2.84],\n",
       "       [ 2.07,  7.67],\n",
       "       [ 5.21,  3.99],\n",
       "       [ 7.05,  3.  ],\n",
       "       [ 6.09,  9.39],\n",
       "       [ 2.65,  2.46],\n",
       "       [ 3.18,  8.62],\n",
       "       [ 5.11,  4.49],\n",
       "       [ 7.87,  1.69],\n",
       "       [ 6.51,  8.04],\n",
       "       [ 2.72,  1.67],\n",
       "       [ 1.79,  7.94],\n",
       "       [ 4.48,  6.06],\n",
       "       [ 5.7 ,  2.29],\n",
       "       [ 7.43,  8.76],\n",
       "       [ 3.25,  2.99],\n",
       "       [ 2.47,  7.78],\n",
       "       [ 4.36,  6.1 ],\n",
       "       [ 6.75,  0.96],\n",
       "       [ 7.81,  7.9 ],\n",
       "       [ 1.98,  1.96],\n",
       "       [ 2.07,  7.9 ],\n",
       "       [ 5.18,  7.47],\n",
       "       [ 6.52,  3.06],\n",
       "       [ 5.49,  9.55],\n",
       "       [ 2.93,  2.61],\n",
       "       [ 1.81,  9.27],\n",
       "       [ 6.22,  4.35],\n",
       "       [ 7.31,  3.41],\n",
       "       [ 7.41,  9.02],\n",
       "       [ 2.89,  2.36],\n",
       "       [ 3.03,  8.08],\n",
       "       [ 6.31,  5.32],\n",
       "       [ 7.63,  1.3 ],\n",
       "       [ 5.99,  8.5 ],\n",
       "       [ 2.38,  2.42],\n",
       "       [ 1.98,  8.09],\n",
       "       [ 3.81,  5.2 ],\n",
       "       [ 6.67,  2.11],\n",
       "       [ 8.17,  8.57],\n",
       "       [ 2.37,  0.62],\n",
       "       [ 2.62,  7.26],\n",
       "       [ 5.6 ,  4.33],\n",
       "       [ 6.47,  1.77],\n",
       "       [ 4.48,  8.55],\n",
       "       [ 2.91,  2.16],\n",
       "       [ 2.13,  8.64],\n",
       "       [ 4.01,  4.24],\n",
       "       [ 7.55,  2.06],\n",
       "       [ 6.65,  8.99],\n",
       "       [ 4.13,  1.76],\n",
       "       [ 0.67,  7.53],\n",
       "       [ 4.47,  4.57],\n",
       "       [ 7.18,  3.  ],\n",
       "       [ 6.  ,  8.5 ],\n",
       "       [ 3.89,  3.09],\n",
       "       [ 2.82,  7.58],\n",
       "       [ 4.97,  4.67],\n",
       "       [ 6.56,  2.24],\n",
       "       [ 5.52,  8.23],\n",
       "       [ 2.8 ,  1.41],\n",
       "       [ 1.49,  7.08],\n",
       "       [ 3.59,  6.74],\n",
       "       [ 7.07,  1.07],\n",
       "       [ 5.43,  8.66],\n",
       "       [ 2.94,  2.23],\n",
       "       [ 2.3 ,  8.8 ],\n",
       "       [ 4.79,  3.84],\n",
       "       [ 7.37,  1.64],\n",
       "       [ 7.38,  7.37],\n",
       "       [ 1.78,  2.  ],\n",
       "       [ 2.33,  8.15],\n",
       "       [ 5.88,  5.78],\n",
       "       [ 6.86,  3.37],\n",
       "       [ 6.74,  9.56],\n",
       "       [ 2.97,  0.43],\n",
       "       [ 2.06,  9.18],\n",
       "       [ 3.79,  5.  ],\n",
       "       [ 7.4 ,  2.94],\n",
       "       [ 6.7 ,  9.66],\n",
       "       [ 2.21,  1.08],\n",
       "       [ 1.48,  6.75],\n",
       "       [ 3.18,  5.36],\n",
       "       [ 8.3 ,  2.54],\n",
       "       [ 6.78,  8.1 ],\n",
       "       [ 3.92,  1.94],\n",
       "       [ 1.53,  7.74],\n",
       "       [ 5.2 ,  3.8 ],\n",
       "       [ 6.98,  3.27],\n",
       "       [ 5.  ,  7.96],\n",
       "       [ 2.47,  1.18],\n",
       "       [ 1.18,  8.39],\n",
       "       [ 4.76,  4.11],\n",
       "       [ 7.87,  1.52],\n",
       "       [ 6.11,  8.46],\n",
       "       [ 3.47,  2.11],\n",
       "       [ 1.95,  8.25],\n",
       "       [ 5.14,  6.24],\n",
       "       [ 7.2 ,  2.76],\n",
       "       [ 5.95,  8.97],\n",
       "       [ 2.38,  3.12],\n",
       "       [ 2.43,  9.13],\n",
       "       [ 5.72,  6.07],\n",
       "       [ 7.73,  1.82],\n",
       "       [ 6.69,  8.79],\n",
       "       [ 2.64,  2.08],\n",
       "       [ 1.97,  8.67],\n",
       "       [ 4.87,  4.65],\n",
       "       [ 6.5 ,  2.89],\n",
       "       [ 6.97,  7.82],\n",
       "       [ 2.18,  2.97],\n",
       "       [ 1.5 ,  7.46],\n",
       "       [ 4.51,  5.35],\n",
       "       [ 8.63,  1.22],\n",
       "       [ 6.16,  8.02],\n",
       "       [ 3.62,  1.02],\n",
       "       [ 2.43,  8.03],\n",
       "       [ 5.03,  5.65],\n",
       "       [ 7.2 ,  0.99],\n",
       "       [ 6.26,  8.23],\n",
       "       [ 2.9 ,  2.19],\n",
       "       [ 1.43,  7.25],\n",
       "       [ 2.95,  5.06],\n",
       "       [ 7.34, -0.29],\n",
       "       [ 7.74,  7.58],\n",
       "       [ 4.1 ,  1.18],\n",
       "       [ 2.03,  7.97],\n",
       "       [ 5.25,  3.69],\n",
       "       [ 5.98,  2.28],\n",
       "       [ 4.28,  8.34],\n",
       "       [ 2.73,  0.95],\n",
       "       [ 3.6 ,  7.48],\n",
       "       [ 5.85,  4.74],\n",
       "       [ 7.32,  1.86],\n",
       "       [ 6.39, 10.29],\n",
       "       [ 1.72,  2.47],\n",
       "       [ 2.28,  6.28],\n",
       "       [ 4.29,  3.8 ],\n",
       "       [ 6.31,  2.32],\n",
       "       [ 5.54,  8.5 ],\n",
       "       [ 2.24,  1.06],\n",
       "       [ 1.99,  8.47],\n",
       "       [ 6.16,  6.37],\n",
       "       [ 7.83,  2.99],\n",
       "       [ 7.  , 10.32],\n",
       "       [ 2.95,  0.95],\n",
       "       [ 1.22,  7.99],\n",
       "       [ 5.07,  3.88],\n",
       "       [ 6.84,  1.41],\n",
       "       [ 6.23,  8.73],\n",
       "       [ 3.06,  1.76],\n",
       "       [ 2.62,  8.  ],\n",
       "       [ 3.96,  3.63],\n",
       "       [ 6.96,  1.18],\n",
       "       [ 6.95,  7.74],\n",
       "       [ 4.13,  1.52],\n",
       "       [ 1.99,  7.35],\n",
       "       [ 3.  ,  4.86],\n",
       "       [ 7.01,  1.86],\n",
       "       [ 6.46, 10.2 ],\n",
       "       [ 2.43,  2.99],\n",
       "       [ 2.84,  8.28],\n",
       "       [ 4.48,  4.89],\n",
       "       [ 5.57,  1.95],\n",
       "       [ 5.67,  8.35],\n",
       "       [ 3.15,  3.19],\n",
       "       [-0.4 ,  6.  ],\n",
       "       [ 5.07,  5.03],\n",
       "       [ 6.73,  3.09],\n",
       "       [ 5.48,  8.47],\n",
       "       [ 3.13,  2.67],\n",
       "       [ 1.71,  8.96],\n",
       "       [ 4.96,  4.71],\n",
       "       [ 6.64,  0.64],\n",
       "       [ 6.22,  8.76],\n",
       "       [ 3.25,  1.56],\n",
       "       [ 1.92,  7.36],\n",
       "       [ 3.65,  6.42],\n",
       "       [ 6.78,  1.34],\n",
       "       [ 5.13,  8.29],\n",
       "       [ 4.05,  3.39],\n",
       "       [ 2.96,  7.27],\n",
       "       [ 5.4 ,  3.25],\n",
       "       [ 7.18,  1.88],\n",
       "       [ 6.35,  8.76],\n",
       "       [ 3.12,  1.8 ],\n",
       "       [ 2.14,  7.26],\n",
       "       [ 5.3 ,  6.22],\n",
       "       [ 7.96,  2.05],\n",
       "       [ 5.04,  8.29],\n",
       "       [ 3.35,  2.25],\n",
       "       [ 2.41,  7.15],\n",
       "       [ 4.77,  5.88],\n",
       "       [ 8.33,  0.8 ],\n",
       "       [ 6.33,  7.89],\n",
       "       [ 2.97,  1.6 ],\n",
       "       [ 2.1 ,  9.45],\n",
       "       [ 5.15,  4.64],\n",
       "       [ 6.12,  1.15],\n",
       "       [ 5.69,  7.85],\n",
       "       [ 2.66,  1.65],\n",
       "       [ 2.58,  9.44],\n",
       "       [ 3.69,  6.13],\n",
       "       [ 7.91,  1.87],\n",
       "       [ 6.41,  8.98],\n",
       "       [ 3.4 ,  2.29],\n",
       "       [ 1.78,  8.41],\n",
       "       [ 4.16,  5.54],\n",
       "       [ 8.12,  1.47],\n",
       "       [ 6.49,  9.06],\n",
       "       [ 2.69,  0.11],\n",
       "       [ 2.14,  7.91],\n",
       "       [ 3.37,  4.54],\n",
       "       [ 5.48,  2.5 ],\n",
       "       [ 5.7 ,  8.79],\n",
       "       [ 2.75,  1.54],\n",
       "       [ 2.41,  8.53],\n",
       "       [ 5.2 ,  6.55],\n",
       "       [ 8.32,  2.52],\n",
       "       [ 5.62,  8.16],\n",
       "       [ 1.71,  1.31],\n",
       "       [ 4.28,  8.78],\n",
       "       [ 4.58,  5.78],\n",
       "       [ 6.65,  1.6 ],\n",
       "       [ 6.21,  8.06],\n",
       "       [ 2.47,  1.52],\n",
       "       [ 2.42,  7.26],\n",
       "       [ 4.5 ,  5.92],\n",
       "       [ 6.8 ,  2.78],\n",
       "       [ 6.  ,  7.14],\n",
       "       [ 2.74,  2.14],\n",
       "       [ 3.62,  8.25],\n",
       "       [ 4.36,  5.12],\n",
       "       [ 6.8 ,  2.11],\n",
       "       [ 5.78,  9.74],\n",
       "       [ 3.53,  1.11],\n",
       "       [ 2.33,  7.38],\n",
       "       [ 5.76,  3.81],\n",
       "       [ 5.96,  2.2 ],\n",
       "       [ 6.84,  8.65],\n",
       "       [ 3.43,  3.32],\n",
       "       [ 0.85,  7.73],\n",
       "       [ 6.05,  3.98],\n",
       "       [ 7.73,  1.81],\n",
       "       [ 6.77,  6.3 ],\n",
       "       [ 3.47,  3.03],\n",
       "       [-0.09,  8.96],\n",
       "       [ 6.21,  5.51],\n",
       "       [ 7.7 ,  3.05],\n",
       "       [ 5.13,  8.64],\n",
       "       [ 3.  ,  2.39],\n",
       "       [ 3.06,  7.95],\n",
       "       [ 5.85,  3.81],\n",
       "       [ 6.73,  1.62],\n",
       "       [ 5.62,  7.92],\n",
       "       [ 2.  ,  3.45],\n",
       "       [ 2.42,  8.11],\n",
       "       [ 4.14,  5.9 ],\n",
       "       [ 6.65,  0.53],\n",
       "       [ 5.88,  8.84],\n",
       "       [ 4.21,  2.23],\n",
       "       [ 3.05,  8.45],\n",
       "       [ 5.69,  3.86],\n",
       "       [ 7.44,  1.18],\n",
       "       [ 6.55,  7.82],\n",
       "       [ 3.37,  1.42],\n",
       "       [ 1.57,  9.5 ],\n",
       "       [ 5.46,  5.84],\n",
       "       [ 7.45,  3.38],\n",
       "       [ 5.59,  7.27],\n",
       "       [ 2.51,  1.51],\n",
       "       [ 2.85,  7.59],\n",
       "       [ 5.12,  5.29],\n",
       "       [ 6.54,  2.08],\n",
       "       [ 5.92,  8.45],\n",
       "       [ 3.23,  1.37],\n",
       "       [ 2.02,  7.96],\n",
       "       [ 4.69,  4.21],\n",
       "       [ 7.57,  2.38],\n",
       "       [ 6.76,  8.69],\n",
       "       [ 2.22,  2.23],\n",
       "       [ 0.15,  8.2 ],\n",
       "       [ 3.72,  5.25],\n",
       "       [ 7.33,  2.47],\n",
       "       [ 6.27,  8.72],\n",
       "       [ 4.59,  2.88],\n",
       "       [ 1.72,  7.78],\n",
       "       [ 4.3 ,  4.46],\n",
       "       [ 7.43,  1.07],\n",
       "       [ 5.83,  9.42],\n",
       "       [ 2.92,  2.97],\n",
       "       [ 3.1 ,  8.19],\n",
       "       [ 5.83,  5.42],\n",
       "       [ 6.54,  3.08],\n",
       "       [ 5.6 ,  9.98]])"
      ]
     },
     "execution_count": 26,
     "metadata": {},
     "output_type": "execute_result"
    }
   ],
   "source": [
    "X"
   ]
  },
  {
   "cell_type": "code",
   "execution_count": 27,
   "metadata": {},
   "outputs": [
    {
     "data": {
      "text/plain": [
       "numpy.ndarray"
      ]
     },
     "execution_count": 27,
     "metadata": {},
     "output_type": "execute_result"
    }
   ],
   "source": [
    "type(X)"
   ]
  },
  {
   "cell_type": "code",
   "execution_count": 28,
   "metadata": {},
   "outputs": [
    {
     "data": {
      "text/plain": [
       "(350, 2)"
      ]
     },
     "execution_count": 28,
     "metadata": {},
     "output_type": "execute_result"
    }
   ],
   "source": [
    "X.shape"
   ]
  },
  {
   "cell_type": "code",
   "execution_count": 29,
   "metadata": {},
   "outputs": [
    {
     "data": {
      "text/plain": [
       "array([ 2.08,  2.05,  4.53,  6.23,  5.35,  2.88,  2.32,  5.06,  5.38,\n",
       "        6.31,  3.41,  1.75,  3.88,  7.22,  5.85,  3.66,  0.45,  6.01,\n",
       "        7.06,  7.47,  2.2 ,  2.94,  5.87,  4.57,  5.84,  3.4 ,  1.44,\n",
       "        4.29,  8.09,  6.48,  2.94,  0.41,  5.42,  7.47,  5.62,  3.71,\n",
       "        0.41,  4.93,  7.23,  6.77,  3.23,  1.61,  4.7 ,  6.86,  5.2 ,\n",
       "        1.53,  0.27,  6.17,  8.47,  5.23,  3.27,  1.52,  5.49,  5.47,\n",
       "        5.43,  2.51,  2.07,  5.21,  7.05,  6.09,  2.65,  3.18,  5.11,\n",
       "        7.87,  6.51,  2.72,  1.79,  4.48,  5.7 ,  7.43,  3.25,  2.47,\n",
       "        4.36,  6.75,  7.81,  1.98,  2.07,  5.18,  6.52,  5.49,  2.93,\n",
       "        1.81,  6.22,  7.31,  7.41,  2.89,  3.03,  6.31,  7.63,  5.99,\n",
       "        2.38,  1.98,  3.81,  6.67,  8.17,  2.37,  2.62,  5.6 ,  6.47,\n",
       "        4.48,  2.91,  2.13,  4.01,  7.55,  6.65,  4.13,  0.67,  4.47,\n",
       "        7.18,  6.  ,  3.89,  2.82,  4.97,  6.56,  5.52,  2.8 ,  1.49,\n",
       "        3.59,  7.07,  5.43,  2.94,  2.3 ,  4.79,  7.37,  7.38,  1.78,\n",
       "        2.33,  5.88,  6.86,  6.74,  2.97,  2.06,  3.79,  7.4 ,  6.7 ,\n",
       "        2.21,  1.48,  3.18,  8.3 ,  6.78,  3.92,  1.53,  5.2 ,  6.98,\n",
       "        5.  ,  2.47,  1.18,  4.76,  7.87,  6.11,  3.47,  1.95,  5.14,\n",
       "        7.2 ,  5.95,  2.38,  2.43,  5.72,  7.73,  6.69,  2.64,  1.97,\n",
       "        4.87,  6.5 ,  6.97,  2.18,  1.5 ,  4.51,  8.63,  6.16,  3.62,\n",
       "        2.43,  5.03,  7.2 ,  6.26,  2.9 ,  1.43,  2.95,  7.34,  7.74,\n",
       "        4.1 ,  2.03,  5.25,  5.98,  4.28,  2.73,  3.6 ,  5.85,  7.32,\n",
       "        6.39,  1.72,  2.28,  4.29,  6.31,  5.54,  2.24,  1.99,  6.16,\n",
       "        7.83,  7.  ,  2.95,  1.22,  5.07,  6.84,  6.23,  3.06,  2.62,\n",
       "        3.96,  6.96,  6.95,  4.13,  1.99,  3.  ,  7.01,  6.46,  2.43,\n",
       "        2.84,  4.48,  5.57,  5.67,  3.15, -0.4 ,  5.07,  6.73,  5.48,\n",
       "        3.13,  1.71,  4.96,  6.64,  6.22,  3.25,  1.92,  3.65,  6.78,\n",
       "        5.13,  4.05,  2.96,  5.4 ,  7.18,  6.35,  3.12,  2.14,  5.3 ,\n",
       "        7.96,  5.04,  3.35,  2.41,  4.77,  8.33,  6.33,  2.97,  2.1 ,\n",
       "        5.15,  6.12,  5.69,  2.66,  2.58,  3.69,  7.91,  6.41,  3.4 ,\n",
       "        1.78,  4.16,  8.12,  6.49,  2.69,  2.14,  3.37,  5.48,  5.7 ,\n",
       "        2.75,  2.41,  5.2 ,  8.32,  5.62,  1.71,  4.28,  4.58,  6.65,\n",
       "        6.21,  2.47,  2.42,  4.5 ,  6.8 ,  6.  ,  2.74,  3.62,  4.36,\n",
       "        6.8 ,  5.78,  3.53,  2.33,  5.76,  5.96,  6.84,  3.43,  0.85,\n",
       "        6.05,  7.73,  6.77,  3.47, -0.09,  6.21,  7.7 ,  5.13,  3.  ,\n",
       "        3.06,  5.85,  6.73,  5.62,  2.  ,  2.42,  4.14,  6.65,  5.88,\n",
       "        4.21,  3.05,  5.69,  7.44,  6.55,  3.37,  1.57,  5.46,  7.45,\n",
       "        5.59,  2.51,  2.85,  5.12,  6.54,  5.92,  3.23,  2.02,  4.69,\n",
       "        7.57,  6.76,  2.22,  0.15,  3.72,  7.33,  6.27,  4.59,  1.72,\n",
       "        4.3 ,  7.43,  5.83,  2.92,  3.1 ,  5.83,  6.54,  5.6 ])"
      ]
     },
     "execution_count": 29,
     "metadata": {},
     "output_type": "execute_result"
    }
   ],
   "source": [
    "X[:,0]"
   ]
  },
  {
   "cell_type": "code",
   "execution_count": 30,
   "metadata": {},
   "outputs": [
    {
     "data": {
      "text/plain": [
       "array([ 1.05,  7.7 ,  5.49,  1.02,  7.86,  0.79,  8.5 ,  5.65,  3.53,\n",
       "        9.73,  2.05,  7.38,  5.73,  2.88,  9.11,  2.38,  7.99,  5.83,\n",
       "        2.41,  8.97,  2.71,  8.71,  4.56,  1.33,  6.54,  1.  ,  8.26,\n",
       "        4.69,  1.99,  9.44,  1.78,  9.14,  4.08,  2.15,  7.65,  1.26,\n",
       "        8.9 ,  5.73,  0.14,  9.09,  2.64,  7.85,  4.78,  2.21,  9.65,\n",
       "        2.93,  9.38,  5.74,  2.44,  7.41,  1.63,  8.8 ,  4.5 ,  2.81,\n",
       "        7.45,  2.84,  7.67,  3.99,  3.  ,  9.39,  2.46,  8.62,  4.49,\n",
       "        1.69,  8.04,  1.67,  7.94,  6.06,  2.29,  8.76,  2.99,  7.78,\n",
       "        6.1 ,  0.96,  7.9 ,  1.96,  7.9 ,  7.47,  3.06,  9.55,  2.61,\n",
       "        9.27,  4.35,  3.41,  9.02,  2.36,  8.08,  5.32,  1.3 ,  8.5 ,\n",
       "        2.42,  8.09,  5.2 ,  2.11,  8.57,  0.62,  7.26,  4.33,  1.77,\n",
       "        8.55,  2.16,  8.64,  4.24,  2.06,  8.99,  1.76,  7.53,  4.57,\n",
       "        3.  ,  8.5 ,  3.09,  7.58,  4.67,  2.24,  8.23,  1.41,  7.08,\n",
       "        6.74,  1.07,  8.66,  2.23,  8.8 ,  3.84,  1.64,  7.37,  2.  ,\n",
       "        8.15,  5.78,  3.37,  9.56,  0.43,  9.18,  5.  ,  2.94,  9.66,\n",
       "        1.08,  6.75,  5.36,  2.54,  8.1 ,  1.94,  7.74,  3.8 ,  3.27,\n",
       "        7.96,  1.18,  8.39,  4.11,  1.52,  8.46,  2.11,  8.25,  6.24,\n",
       "        2.76,  8.97,  3.12,  9.13,  6.07,  1.82,  8.79,  2.08,  8.67,\n",
       "        4.65,  2.89,  7.82,  2.97,  7.46,  5.35,  1.22,  8.02,  1.02,\n",
       "        8.03,  5.65,  0.99,  8.23,  2.19,  7.25,  5.06, -0.29,  7.58,\n",
       "        1.18,  7.97,  3.69,  2.28,  8.34,  0.95,  7.48,  4.74,  1.86,\n",
       "       10.29,  2.47,  6.28,  3.8 ,  2.32,  8.5 ,  1.06,  8.47,  6.37,\n",
       "        2.99, 10.32,  0.95,  7.99,  3.88,  1.41,  8.73,  1.76,  8.  ,\n",
       "        3.63,  1.18,  7.74,  1.52,  7.35,  4.86,  1.86, 10.2 ,  2.99,\n",
       "        8.28,  4.89,  1.95,  8.35,  3.19,  6.  ,  5.03,  3.09,  8.47,\n",
       "        2.67,  8.96,  4.71,  0.64,  8.76,  1.56,  7.36,  6.42,  1.34,\n",
       "        8.29,  3.39,  7.27,  3.25,  1.88,  8.76,  1.8 ,  7.26,  6.22,\n",
       "        2.05,  8.29,  2.25,  7.15,  5.88,  0.8 ,  7.89,  1.6 ,  9.45,\n",
       "        4.64,  1.15,  7.85,  1.65,  9.44,  6.13,  1.87,  8.98,  2.29,\n",
       "        8.41,  5.54,  1.47,  9.06,  0.11,  7.91,  4.54,  2.5 ,  8.79,\n",
       "        1.54,  8.53,  6.55,  2.52,  8.16,  1.31,  8.78,  5.78,  1.6 ,\n",
       "        8.06,  1.52,  7.26,  5.92,  2.78,  7.14,  2.14,  8.25,  5.12,\n",
       "        2.11,  9.74,  1.11,  7.38,  3.81,  2.2 ,  8.65,  3.32,  7.73,\n",
       "        3.98,  1.81,  6.3 ,  3.03,  8.96,  5.51,  3.05,  8.64,  2.39,\n",
       "        7.95,  3.81,  1.62,  7.92,  3.45,  8.11,  5.9 ,  0.53,  8.84,\n",
       "        2.23,  8.45,  3.86,  1.18,  7.82,  1.42,  9.5 ,  5.84,  3.38,\n",
       "        7.27,  1.51,  7.59,  5.29,  2.08,  8.45,  1.37,  7.96,  4.21,\n",
       "        2.38,  8.69,  2.23,  8.2 ,  5.25,  2.47,  8.72,  2.88,  7.78,\n",
       "        4.46,  1.07,  9.42,  2.97,  8.19,  5.42,  3.08,  9.98])"
      ]
     },
     "execution_count": 30,
     "metadata": {},
     "output_type": "execute_result"
    }
   ],
   "source": [
    "X[:,1]"
   ]
  },
  {
   "cell_type": "code",
   "execution_count": 31,
   "metadata": {},
   "outputs": [
    {
     "data": {
      "text/plain": [
       "<matplotlib.collections.PathCollection at 0x26510a81b00>"
      ]
     },
     "execution_count": 31,
     "metadata": {},
     "output_type": "execute_result"
    },
    {
     "data": {
      "image/png": "[encoded data removed]",
      "text/plain": [
       "<Figure size 432x288 with 1 Axes>"
      ]
     },
     "metadata": {},
     "output_type": "display_data"
    }
   ],
   "source": [
    "plt.scatter(X[:,0], X[:,1], marker='o', facecolors='none', edgecolors='black', s=30)\n",
    "\n",
    "# s = 30 is size of your marks.\n",
    "# plt.scatter(x,y)"
   ]
  },
  {
   "cell_type": "code",
   "execution_count": 32,
   "metadata": {},
   "outputs": [
    {
     "data": {
      "text/plain": [
       "-1.4"
      ]
     },
     "execution_count": 32,
     "metadata": {},
     "output_type": "execute_result"
    }
   ],
   "source": [
    "x_min = X[:, 0].min() - 1\n",
    "x_min"
   ]
  },
  {
   "cell_type": "code",
   "execution_count": 33,
   "metadata": {},
   "outputs": [
    {
     "data": {
      "text/plain": [
       "9.63"
      ]
     },
     "execution_count": 33,
     "metadata": {},
     "output_type": "execute_result"
    }
   ],
   "source": [
    "x_max = X[:, 0].max() + 1\n",
    "x_max"
   ]
  },
  {
   "cell_type": "code",
   "execution_count": 34,
   "metadata": {},
   "outputs": [
    {
     "data": {
      "text/plain": [
       "-1.29"
      ]
     },
     "execution_count": 34,
     "metadata": {},
     "output_type": "execute_result"
    }
   ],
   "source": [
    "y_min= X[:, 1].min() - 1\n",
    "y_min"
   ]
  },
  {
   "cell_type": "code",
   "execution_count": 35,
   "metadata": {},
   "outputs": [
    {
     "data": {
      "text/plain": [
       "11.32"
      ]
     },
     "execution_count": 35,
     "metadata": {},
     "output_type": "execute_result"
    }
   ],
   "source": [
    "y_max = X[:, 1].max() + 1\n",
    "y_max"
   ]
  },
  {
   "cell_type": "code",
   "execution_count": 36,
   "metadata": {},
   "outputs": [
    {
     "data": {
      "text/plain": [
       "([], <a list of 0 Text yticklabel objects>)"
      ]
     },
     "execution_count": 36,
     "metadata": {},
     "output_type": "execute_result"
    },
    {
     "data": {
      "image/png": "[encoded data removed]",
      "text/plain": [
       "<Figure size 432x288 with 1 Axes>"
      ]
     },
     "metadata": {},
     "output_type": "display_data"
    }
   ],
   "source": [
    "plt.title('Input data')\n",
    "plt.xlim(x_min, x_max)\n",
    "plt.ylim(y_min, y_max)\n",
    "plt.xticks(())\n",
    "plt.yticks(())"
   ]
  },
  {
   "cell_type": "code",
   "execution_count": 37,
   "metadata": {},
   "outputs": [],
   "source": [
    "num_clusters = 5\n",
    "# Create KMeans object \n",
    "kmeans = KMeans(init='k-means++', n_clusters=num_clusters, n_init=10)\n"
   ]
  },
  {
   "cell_type": "code",
   "execution_count": 38,
   "metadata": {},
   "outputs": [
    {
     "data": {
      "text/plain": [
       "KMeans(algorithm='auto', copy_x=True, init='k-means++', max_iter=300,\n",
       "    n_clusters=5, n_init=10, n_jobs=1, precompute_distances='auto',\n",
       "    random_state=None, tol=0.0001, verbose=0)"
      ]
     },
     "execution_count": 38,
     "metadata": {},
     "output_type": "execute_result"
    }
   ],
   "source": [
    "# Train the KMeans clustering model\n",
    "kmeans.fit(X)\n"
   ]
  },
  {
   "cell_type": "code",
   "execution_count": 39,
   "metadata": {},
   "outputs": [],
   "source": [
    "# Step size of the mesh\n",
    "step_size = 0.01"
   ]
  },
  {
   "cell_type": "code",
   "execution_count": 51,
   "metadata": {},
   "outputs": [
    {
     "name": "stdout",
     "output_type": "stream",
     "text": [
      "[[-1.4  -1.39 -1.38 ...  9.6   9.61  9.62]\n",
      " [-1.4  -1.39 -1.38 ...  9.6   9.61  9.62]\n",
      " [-1.4  -1.39 -1.38 ...  9.6   9.61  9.62]\n",
      " ...\n",
      " [-1.4  -1.39 -1.38 ...  9.6   9.61  9.62]\n",
      " [-1.4  -1.39 -1.38 ...  9.6   9.61  9.62]\n",
      " [-1.4  -1.39 -1.38 ...  9.6   9.61  9.62]]\n",
      "1261\n",
      "(1261, 1103)\n"
     ]
    }
   ],
   "source": [
    "# Define the grid of points to plot the boundaries\n",
    "# x_min, x_max = X[:, 0].min() - 1, X[:, 0].max() + 1\n",
    "# y_min, y_max = X[:, 1].min() - 1, X[:, 1].max() + 1\n",
    "x_vals, y_vals = np.meshgrid(np.arange(x_min, x_max, step_size), \n",
    "        np.arange(y_min, y_max, step_size))\n",
    "print(x_vals)\n",
    "print(len(x_vals))\n",
    "print(x_vals.shape)\n"
   ]
  },
  {
   "cell_type": "code",
   "execution_count": 52,
   "metadata": {},
   "outputs": [
    {
     "name": "stdout",
     "output_type": "stream",
     "text": [
      "[[-1.29 -1.29 -1.29 ... -1.29 -1.29 -1.29]\n",
      " [-1.28 -1.28 -1.28 ... -1.28 -1.28 -1.28]\n",
      " [-1.27 -1.27 -1.27 ... -1.27 -1.27 -1.27]\n",
      " ...\n",
      " [11.29 11.29 11.29 ... 11.29 11.29 11.29]\n",
      " [11.3  11.3  11.3  ... 11.3  11.3  11.3 ]\n",
      " [11.31 11.31 11.31 ... 11.31 11.31 11.31]]\n",
      "1261\n",
      "(1261, 1103)\n"
     ]
    }
   ],
   "source": [
    "print(y_vals)\n",
    "print(len(y_vals))\n",
    "print(y_vals.shape)"
   ]
  },
  {
   "cell_type": "code",
   "execution_count": 44,
   "metadata": {},
   "outputs": [
    {
     "name": "stdout",
     "output_type": "stream",
     "text": [
      "[4 4 4 ... 3 3 3]\n",
      "1390883\n"
     ]
    }
   ],
   "source": [
    "# Predict output labels for all the points on the grid \n",
    "output = kmeans.predict(np.c_[x_vals.ravel(), y_vals.ravel()])\n",
    "print(output)\n",
    "print(len(output))"
   ]
  },
  {
   "cell_type": "code",
   "execution_count": 53,
   "metadata": {},
   "outputs": [
    {
     "data": {
      "image/png": "[encoded data removed]",
      "text/plain": [
       "<Figure size 432x288 with 1 Axes>"
      ]
     },
     "metadata": {},
     "output_type": "display_data"
    }
   ],
   "source": [
    "# Plot different regions and color them \n",
    "output = output.reshape(x_vals.shape)\n",
    "plt.figure()\n",
    "plt.clf()            \n",
    "plt.imshow (output, interpolation='nearest',\n",
    "           extent=(x_vals.min(), x_vals.max(), \n",
    "               y_vals.min(), y_vals.max()),\n",
    "           cmap=plt.cm.Paired, \n",
    "           aspect='auto', \n",
    "           origin='lower')\n",
    "# Overlay input points\n",
    "plt.scatter(X[:,0], X[:,1], marker='o', facecolors='none', \n",
    "        edgecolors='black', s=20)\n",
    "\n",
    "# Plot the centers of clusters\n",
    "cluster_centers = kmeans.cluster_centers_\n",
    "plt.scatter(cluster_centers[:,0], cluster_centers[:,1], \n",
    "        marker='o', s=30, linewidths=4, color='black', \n",
    "        zorder=12, facecolors='black')\n",
    "# x_min, x_max = X[:, 0].min() - 1, X[:, 0].max() + 1\n",
    "# y_min, y_max = X[:, 1].min() - 1, X[:, 1].max() + 1\n",
    "plt.title('Boundaries of clusters')\n",
    "plt.xlim(x_min, x_max)\n",
    "plt.ylim(y_min, y_max)\n",
    "# plt.xticks(())\n",
    "# plt.yticks(())\n",
    "plt.show()"
   ]
  },
  {
   "cell_type": "code",
   "execution_count": null,
   "metadata": {},
   "outputs": [],
   "source": []
  }
 ],
 "metadata": {
  "kernelspec": {
   "display_name": "Python 3",
   "language": "python",
   "name": "python3"
  },
  "language_info": {
   "codemirror_mode": {
    "name": "ipython",
    "version": 3
   },
   "file_extension": ".py",
   "mimetype": "text/x-python",
   "name": "python",
   "nbconvert_exporter": "python",
   "pygments_lexer": "ipython3",
   "version": "3.6.5"
  }
 },
 "nbformat": 4,
 "nbformat_minor": 2
}
