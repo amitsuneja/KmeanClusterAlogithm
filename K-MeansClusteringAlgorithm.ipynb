{
 "cells": [
  {
   "cell_type": "code",
   "execution_count": 56,
   "metadata": {},
   "outputs": [],
   "source": [
    "%matplotlib inline"
   ]
  },
  {
   "cell_type": "code",
   "execution_count": 57,
   "metadata": {},
   "outputs": [
    {
     "data": {
      "text/plain": [
       "'\\nLet’s say the pizza chain wants to send out targeted coupons to customers. It wants to segment its customers into 4 groups: \\nlarge families, small families, singles, and college students.\\n\\nWe are given prior ordering data (e.g. size of order, price, frequency, etc) and we’re tasked with putting each \\ncustomer into one of the four buckets. \\n\\nThis would be an example of “unsupervised learning” since we’re not making predictions; we’re merely categorizing the \\ncustomers into groups\\n\\n'"
      ]
     },
     "execution_count": 57,
     "metadata": {},
     "output_type": "execute_result"
    }
   ],
   "source": [
    "\"\"\"\n",
    "Let’s say the pizza chain wants to send out targeted coupons to customers. It wants to segment its customers into 4 groups: \n",
    "large families, small families, singles, and college students.\n",
    "\n",
    "We are given prior ordering data (e.g. size of order, price, frequency, etc) and we’re tasked with putting each \n",
    "customer into one of the four buckets. \n",
    "\n",
    "This would be an example of “unsupervised learning” since we’re not making predictions; we’re merely categorizing the \n",
    "customers into groups\n",
    "\n",
    "\"\"\""
   ]
  },
  {
   "cell_type": "code",
   "execution_count": 58,
   "metadata": {},
   "outputs": [],
   "source": [
    "# import statements\n",
    "from sklearn.datasets import make_blobs\n",
    "import numpy as np\n",
    "import matplotlib.pyplot as plt\n",
    "# create blobs\n",
    "data = make_blobs(n_samples=200, n_features=2, centers=4, cluster_std=1.6, random_state=50)"
   ]
  },
  {
   "cell_type": "code",
   "execution_count": 59,
   "metadata": {},
   "outputs": [
    {
     "data": {
      "text/plain": [
       "tuple"
      ]
     },
     "execution_count": 59,
     "metadata": {},
     "output_type": "execute_result"
    }
   ],
   "source": [
    "type(data)"
   ]
  },
  {
   "cell_type": "code",
   "execution_count": 60,
   "metadata": {},
   "outputs": [
    {
     "data": {
      "text/plain": [
       "array([[-1.06705283e+00,  9.24306355e+00],\n",
       "       [ 1.08654318e+00, -6.94815805e+00],\n",
       "       [-2.30970265e+00,  5.84969440e+00],\n",
       "       [-1.59728965e+00,  8.45369045e+00],\n",
       "       [-5.79816711e+00, -3.78405528e+00],\n",
       "       [-2.29833776e+00, -4.66005371e+00],\n",
       "       [-1.68210799e+00,  1.12843423e+01],\n",
       "       [-7.38296450e-01, -5.20135260e+00],\n",
       "       [-1.92048345e-01, -6.45318764e+00],\n",
       "       [-6.37920287e+00, -2.17672355e+00],\n",
       "       [-5.12054803e+00, -2.91449176e+00],\n",
       "       [-4.22297649e+00,  9.04719945e+00],\n",
       "       [-2.67815731e+00, -2.32828819e+00],\n",
       "       [-3.02994109e+00,  1.86959382e+00],\n",
       "       [-5.73938121e+00, -7.25648845e-01],\n",
       "       [-1.99427571e+00,  4.28616868e+00],\n",
       "       [-2.89522086e+00,  1.10222354e+01],\n",
       "       [-1.11286937e+00,  1.03086380e+01],\n",
       "       [-5.19987051e+00, -1.59879364e+00],\n",
       "       [-4.75916597e+00, -1.97047767e+00],\n",
       "       [-6.76865308e+00, -3.56907573e+00],\n",
       "       [-2.65715781e+00,  3.33763714e+00],\n",
       "       [-4.61722463e+00,  1.06373187e+01],\n",
       "       [-1.43729337e+00,  1.12137736e+01],\n",
       "       [-1.98068787e+00,  9.73142838e+00],\n",
       "       [-1.47838268e+00,  4.02156675e+00],\n",
       "       [-3.74580344e+00,  9.15545625e+00],\n",
       "       [-5.51090509e-01, -2.19802594e+00],\n",
       "       [-2.68015629e+00,  5.58489786e+00],\n",
       "       [-1.18697121e-01,  1.04950260e+01],\n",
       "       [ 7.08946126e-02,  1.27161487e+01],\n",
       "       [-6.03097685e+00, -1.01668649e+00],\n",
       "       [-6.43543481e+00,  1.19165025e-01],\n",
       "       [-7.91271326e-01, -5.63231066e+00],\n",
       "       [ 9.02189228e-02, -4.24988128e+00],\n",
       "       [-3.72960397e+00, -2.40552410e+00],\n",
       "       [-5.47201497e+00, -1.29098281e+00],\n",
       "       [-4.50400179e+00, -1.29552557e+00],\n",
       "       [-1.59604970e+00,  7.08952891e+00],\n",
       "       [-2.45285170e+00,  6.35814471e+00],\n",
       "       [-1.02481236e+00,  1.34548122e+01],\n",
       "       [-7.16917808e+00, -3.68305685e+00],\n",
       "       [-2.09444877e+00,  6.60308885e+00],\n",
       "       [-3.08549983e+00,  6.22161479e+00],\n",
       "       [-6.82140576e-01, -4.83269360e+00],\n",
       "       [ 1.64436813e+00, -3.29688399e+00],\n",
       "       [-1.81165386e+00,  9.57286673e+00],\n",
       "       [-1.21769584e-01,  6.51275284e+00],\n",
       "       [-1.65143884e+00,  6.38316168e+00],\n",
       "       [-4.18721798e+00,  8.93800061e+00],\n",
       "       [-1.10703455e+00, -4.83713152e+00],\n",
       "       [-7.62627421e+00, -4.60727232e+00],\n",
       "       [-3.06568887e-01,  5.25844092e+00],\n",
       "       [-1.23581275e+00,  8.35805290e+00],\n",
       "       [-1.85807535e-01,  2.57718893e+00],\n",
       "       [ 7.28797198e-01,  6.06528632e+00],\n",
       "       [-1.70400879e+00, -2.88008464e+00],\n",
       "       [-5.02706384e+00,  7.61298431e-01],\n",
       "       [-6.22443225e+00, -6.57162467e-01],\n",
       "       [-2.90807981e+00,  5.27669491e+00],\n",
       "       [-1.37711368e+00, -5.50047455e+00],\n",
       "       [-5.57986277e-01, -2.70088621e+00],\n",
       "       [-5.68833947e+00,  7.94601173e+00],\n",
       "       [-2.77413056e+00, -5.78872960e+00],\n",
       "       [-1.53159637e+00, -5.42990953e+00],\n",
       "       [-3.22848472e+00,  9.44642918e+00],\n",
       "       [ 9.86777496e-01, -7.30690762e+00],\n",
       "       [-4.42661936e+00,  3.35071015e+00],\n",
       "       [-3.17162516e+00,  1.10347610e+01],\n",
       "       [-4.74516474e+00,  7.89837755e+00],\n",
       "       [ 1.02471465e+00, -4.64795418e+00],\n",
       "       [-6.13566432e+00, -2.93094035e+00],\n",
       "       [-3.42672033e+00,  7.64284207e+00],\n",
       "       [ 1.27831270e+00, -6.29519484e+00],\n",
       "       [-3.16483095e+00,  6.35636403e+00],\n",
       "       [ 1.13910574e-02,  5.46235123e+00],\n",
       "       [-5.41232378e+00, -2.68666494e+00],\n",
       "       [ 4.61164125e-01,  4.69143186e+00],\n",
       "       [-2.41469662e+00,  4.66269862e+00],\n",
       "       [-3.77686363e-01, -5.75177620e+00],\n",
       "       [-6.10691421e+00, -5.98494706e+00],\n",
       "       [-4.87535312e-01,  6.36669314e+00],\n",
       "       [-5.73193316e+00, -1.81425052e+00],\n",
       "       [-4.88797474e+00, -2.96226761e+00],\n",
       "       [-5.91551686e+00, -1.39463278e+00],\n",
       "       [-7.44500073e+00, -1.82470952e+00],\n",
       "       [-3.39008216e+00,  1.09563447e+01],\n",
       "       [ 2.47622860e-01, -5.03543616e+00],\n",
       "       [-3.10260432e+00,  1.09469609e+01],\n",
       "       [-5.15417920e+00, -4.12796457e+00],\n",
       "       [-4.28633194e-01, -4.24947701e+00],\n",
       "       [-4.27501504e+00,  1.08359469e+01],\n",
       "       [ 4.55976021e-02, -4.59883918e+00],\n",
       "       [-5.04804825e+00,  4.27765336e+00],\n",
       "       [-2.40612947e+00,  5.07809235e+00],\n",
       "       [-2.27451380e+00, -1.54186053e+00],\n",
       "       [-1.57744641e-01, -1.15341625e+01],\n",
       "       [-2.19532828e+00,  4.52009408e+00],\n",
       "       [-5.01209756e-01, -3.66534438e+00],\n",
       "       [-2.55093474e+00,  5.07808929e+00],\n",
       "       [-7.89434801e+00, -3.17030594e+00],\n",
       "       [-1.53349447e+00, -5.87137205e+00],\n",
       "       [-3.69177238e+00,  2.87620370e+00],\n",
       "       [-1.31024459e+00,  1.19798893e+01],\n",
       "       [-1.49167744e+00,  7.45001320e+00],\n",
       "       [ 2.24563558e+00, -6.37052906e+00],\n",
       "       [-2.93581723e+00,  4.37099430e+00],\n",
       "       [-2.45885784e+00, -3.47646132e+00],\n",
       "       [-9.37207745e+00, -2.04265047e+00],\n",
       "       [-1.85324174e+00,  1.15343543e+01],\n",
       "       [-4.55544644e-02, -5.77956461e+00],\n",
       "       [-4.81350458e+00, -4.29442383e+00],\n",
       "       [-2.83977728e+00,  1.05836834e+01],\n",
       "       [-3.25189078e+00,  8.58382453e+00],\n",
       "       [-5.78104717e+00, -3.22180679e+00],\n",
       "       [-1.35072701e+00,  4.38388826e+00],\n",
       "       [-2.54760385e+00,  1.23266492e+01],\n",
       "       [-1.83963385e+00,  1.17304073e+01],\n",
       "       [-3.56940146e+00,  3.97719844e+00],\n",
       "       [ 5.19455346e+00, -3.85790517e+00],\n",
       "       [ 1.26866610e+00,  8.69129038e+00],\n",
       "       [-3.63664996e+00,  7.23811254e+00],\n",
       "       [-1.55079863e+00,  8.16118375e+00],\n",
       "       [-1.75136566e+00,  1.01798622e+01],\n",
       "       [ 4.22044090e+00, -7.82455952e+00],\n",
       "       [-1.01845204e+00,  1.08561916e+01],\n",
       "       [-3.09538208e+00,  9.04263837e+00],\n",
       "       [-2.75853245e+00,  5.71712591e+00],\n",
       "       [-1.69955192e+00,  7.60084115e+00],\n",
       "       [ 1.00681205e+00, -5.97364221e+00],\n",
       "       [-3.63618643e+00, -4.01910949e+00],\n",
       "       [ 1.05766953e+00, -2.84354513e+00],\n",
       "       [-5.21005358e-01, -5.36288806e+00],\n",
       "       [ 4.74333018e-01,  2.91649791e+00],\n",
       "       [-1.16095485e+00,  9.30443737e+00],\n",
       "       [ 7.72592657e-01,  3.34757221e+00],\n",
       "       [ 1.15283270e-01, -4.98158692e+00],\n",
       "       [-6.17063348e-01,  1.04101088e+01],\n",
       "       [-2.76847604e+00,  8.52320320e+00],\n",
       "       [-5.25173430e+00, -2.08429857e+00],\n",
       "       [-3.85525653e+00,  9.54219399e+00],\n",
       "       [-8.01851943e-01,  5.95676894e+00],\n",
       "       [-2.36271016e+00,  6.81776964e+00],\n",
       "       [-1.99764975e+00, -3.85128758e+00],\n",
       "       [-6.65130512e+00, -3.92501387e+00],\n",
       "       [-5.57724115e+00,  1.14034957e+01],\n",
       "       [ 1.19709771e+00, -5.35592862e+00],\n",
       "       [-3.25011945e+00,  5.37703143e+00],\n",
       "       [ 1.18033537e+00, -7.97895365e+00],\n",
       "       [-6.91252565e+00, -4.45298216e+00],\n",
       "       [-1.76815267e+00,  9.19196787e+00],\n",
       "       [-6.65058496e+00, -2.11819191e+00],\n",
       "       [-3.70764352e+00,  6.74162691e+00],\n",
       "       [-3.71255665e-01, -4.99321884e+00],\n",
       "       [ 1.12056494e-01, -6.58921181e+00],\n",
       "       [-2.33425004e+00,  7.05562607e+00],\n",
       "       [-6.96784964e-01,  1.00164565e+01],\n",
       "       [-7.67542214e-01, -5.69548201e+00],\n",
       "       [-6.88656858e-01, -9.55180953e+00],\n",
       "       [ 3.19734410e+00, -3.69780369e+00],\n",
       "       [-1.66854762e+00,  4.66869475e+00],\n",
       "       [-3.40729232e-01,  5.72252744e+00],\n",
       "       [-7.63340475e-01, -2.76069256e+00],\n",
       "       [-2.15963524e+00, -7.56230415e+00],\n",
       "       [-5.10916044e+00, -4.59492642e+00],\n",
       "       [-4.57024715e+00, -7.15787278e-01],\n",
       "       [-4.87469044e+00, -2.18916044e+00],\n",
       "       [-1.42220382e+00,  5.20840822e+00],\n",
       "       [ 1.86144971e+00, -9.23586332e+00],\n",
       "       [-4.26446596e-01, -4.87764872e+00],\n",
       "       [-1.35671783e+00, -3.72590953e+00],\n",
       "       [ 9.41731341e-02, -4.05882797e+00],\n",
       "       [-6.95635379e+00, -8.81553313e-01],\n",
       "       [ 1.08172044e+00,  5.81661034e+00],\n",
       "       [ 3.14164337e-02, -5.38350852e+00],\n",
       "       [-2.85096028e+00,  7.51512826e+00],\n",
       "       [-4.36021918e+00, -2.94957772e+00],\n",
       "       [-3.47593712e-01, -4.33384716e+00],\n",
       "       [-2.70720258e+00,  1.05857295e+01],\n",
       "       [-3.77539609e+00,  4.13414806e+00],\n",
       "       [ 1.26381204e+00, -7.84824077e+00],\n",
       "       [-1.44884409e+00,  3.75963327e+00],\n",
       "       [-2.25521451e+00,  5.57096900e+00],\n",
       "       [-3.09117088e+00,  9.37957142e+00],\n",
       "       [-6.36790963e+00, -5.30288810e-02],\n",
       "       [-6.11503859e-01, -3.24108804e+00],\n",
       "       [-6.24195183e+00, -2.19627952e+00],\n",
       "       [-5.34255894e+00,  1.28888667e+01],\n",
       "       [ 1.14391114e+00,  4.35267793e+00],\n",
       "       [ 2.32669251e+00, -7.52917540e+00],\n",
       "       [-2.96275801e+00,  2.59217754e+00],\n",
       "       [-3.02730359e+00,  3.52590749e+00],\n",
       "       [-3.49785697e+00, -8.75045274e-01],\n",
       "       [-5.23835667e-01,  7.48498444e+00],\n",
       "       [ 1.09766760e+00, -4.85679456e+00],\n",
       "       [-1.10000365e+00,  1.10130763e+01],\n",
       "       [-3.98648663e+00, -1.98177808e+00],\n",
       "       [-3.29604652e+00,  6.38490461e+00],\n",
       "       [-3.75526942e+00, -1.56756272e+00],\n",
       "       [-7.10483937e-01,  1.18869578e+01]])"
      ]
     },
     "execution_count": 60,
     "metadata": {},
     "output_type": "execute_result"
    }
   ],
   "source": [
    "data[0]"
   ]
  },
  {
   "cell_type": "code",
   "execution_count": 61,
   "metadata": {},
   "outputs": [
    {
     "data": {
      "text/plain": [
       "(200, 2)"
      ]
     },
     "execution_count": 61,
     "metadata": {},
     "output_type": "execute_result"
    }
   ],
   "source": [
    "data[0].shape"
   ]
  },
  {
   "cell_type": "code",
   "execution_count": 62,
   "metadata": {},
   "outputs": [
    {
     "data": {
      "text/plain": [
       "array([2, 0, 3, 3, 1, 0, 2, 0, 0, 1, 1, 2, 1, 1, 1, 3, 2, 2, 1, 1, 1, 3,\n",
       "       2, 2, 2, 3, 2, 1, 3, 2, 2, 1, 1, 0, 0, 1, 1, 1, 3, 3, 2, 1, 3, 3,\n",
       "       0, 0, 2, 3, 3, 2, 0, 1, 3, 2, 3, 3, 0, 1, 1, 3, 0, 0, 2, 0, 0, 2,\n",
       "       0, 3, 2, 2, 0, 1, 2, 0, 3, 3, 1, 3, 3, 0, 1, 3, 1, 1, 1, 1, 2, 0,\n",
       "       2, 1, 0, 2, 0, 3, 3, 1, 0, 3, 0, 3, 1, 0, 3, 2, 3, 0, 3, 1, 1, 2,\n",
       "       0, 1, 2, 2, 1, 3, 2, 2, 3, 0, 2, 2, 2, 2, 0, 2, 2, 3, 2, 0, 1, 0,\n",
       "       0, 3, 2, 3, 0, 2, 2, 1, 2, 3, 2, 1, 1, 2, 0, 3, 0, 1, 2, 1, 3, 0,\n",
       "       0, 3, 2, 0, 0, 0, 3, 3, 1, 0, 1, 1, 1, 3, 0, 0, 0, 0, 1, 3, 0, 2,\n",
       "       1, 0, 2, 3, 0, 3, 3, 2, 1, 0, 1, 2, 3, 0, 3, 3, 1, 3, 0, 2, 1, 3,\n",
       "       1, 2])"
      ]
     },
     "execution_count": 62,
     "metadata": {},
     "output_type": "execute_result"
    }
   ],
   "source": [
    "data[1]"
   ]
  },
  {
   "cell_type": "code",
   "execution_count": 63,
   "metadata": {},
   "outputs": [
    {
     "data": {
      "text/plain": [
       "(200,)"
      ]
     },
     "execution_count": 63,
     "metadata": {},
     "output_type": "execute_result"
    }
   ],
   "source": [
    "data[1].shape"
   ]
  },
  {
   "cell_type": "code",
   "execution_count": 64,
   "metadata": {},
   "outputs": [
    {
     "data": {
      "text/plain": [
       "array([-1.06705283,  1.08654318, -2.30970265, -1.59728965, -5.79816711,\n",
       "       -2.29833776, -1.68210799, -0.73829645, -0.19204834, -6.37920287,\n",
       "       -5.12054803, -4.22297649, -2.67815731, -3.02994109, -5.73938121,\n",
       "       -1.99427571, -2.89522086, -1.11286937, -5.19987051, -4.75916597,\n",
       "       -6.76865308, -2.65715781, -4.61722463, -1.43729337, -1.98068787,\n",
       "       -1.47838268, -3.74580344, -0.55109051, -2.68015629, -0.11869712,\n",
       "        0.07089461, -6.03097685, -6.43543481, -0.79127133,  0.09021892,\n",
       "       -3.72960397, -5.47201497, -4.50400179, -1.5960497 , -2.4528517 ,\n",
       "       -1.02481236, -7.16917808, -2.09444877, -3.08549983, -0.68214058,\n",
       "        1.64436813, -1.81165386, -0.12176958, -1.65143884, -4.18721798,\n",
       "       -1.10703455, -7.62627421, -0.30656889, -1.23581275, -0.18580754,\n",
       "        0.7287972 , -1.70400879, -5.02706384, -6.22443225, -2.90807981,\n",
       "       -1.37711368, -0.55798628, -5.68833947, -2.77413056, -1.53159637,\n",
       "       -3.22848472,  0.9867775 , -4.42661936, -3.17162516, -4.74516474,\n",
       "        1.02471465, -6.13566432, -3.42672033,  1.2783127 , -3.16483095,\n",
       "        0.01139106, -5.41232378,  0.46116412, -2.41469662, -0.37768636,\n",
       "       -6.10691421, -0.48753531, -5.73193316, -4.88797474, -5.91551686,\n",
       "       -7.44500073, -3.39008216,  0.24762286, -3.10260432, -5.1541792 ,\n",
       "       -0.42863319, -4.27501504,  0.0455976 , -5.04804825, -2.40612947,\n",
       "       -2.2745138 , -0.15774464, -2.19532828, -0.50120976, -2.55093474,\n",
       "       -7.89434801, -1.53349447, -3.69177238, -1.31024459, -1.49167744,\n",
       "        2.24563558, -2.93581723, -2.45885784, -9.37207745, -1.85324174,\n",
       "       -0.04555446, -4.81350458, -2.83977728, -3.25189078, -5.78104717,\n",
       "       -1.35072701, -2.54760385, -1.83963385, -3.56940146,  5.19455346,\n",
       "        1.2686661 , -3.63664996, -1.55079863, -1.75136566,  4.2204409 ,\n",
       "       -1.01845204, -3.09538208, -2.75853245, -1.69955192,  1.00681205,\n",
       "       -3.63618643,  1.05766953, -0.52100536,  0.47433302, -1.16095485,\n",
       "        0.77259266,  0.11528327, -0.61706335, -2.76847604, -5.2517343 ,\n",
       "       -3.85525653, -0.80185194, -2.36271016, -1.99764975, -6.65130512,\n",
       "       -5.57724115,  1.19709771, -3.25011945,  1.18033537, -6.91252565,\n",
       "       -1.76815267, -6.65058496, -3.70764352, -0.37125566,  0.11205649,\n",
       "       -2.33425004, -0.69678496, -0.76754221, -0.68865686,  3.1973441 ,\n",
       "       -1.66854762, -0.34072923, -0.76334047, -2.15963524, -5.10916044,\n",
       "       -4.57024715, -4.87469044, -1.42220382,  1.86144971, -0.4264466 ,\n",
       "       -1.35671783,  0.09417313, -6.95635379,  1.08172044,  0.03141643,\n",
       "       -2.85096028, -4.36021918, -0.34759371, -2.70720258, -3.77539609,\n",
       "        1.26381204, -1.44884409, -2.25521451, -3.09117088, -6.36790963,\n",
       "       -0.61150386, -6.24195183, -5.34255894,  1.14391114,  2.32669251,\n",
       "       -2.96275801, -3.02730359, -3.49785697, -0.52383567,  1.0976676 ,\n",
       "       -1.10000365, -3.98648663, -3.29604652, -3.75526942, -0.71048394])"
      ]
     },
     "execution_count": 64,
     "metadata": {},
     "output_type": "execute_result"
    }
   ],
   "source": [
    "data[0][:,0]"
   ]
  },
  {
   "cell_type": "code",
   "execution_count": 65,
   "metadata": {},
   "outputs": [
    {
     "data": {
      "text/plain": [
       "array([  9.24306355,  -6.94815805,   5.8496944 ,   8.45369045,\n",
       "        -3.78405528,  -4.66005371,  11.28434228,  -5.2013526 ,\n",
       "        -6.45318764,  -2.17672355,  -2.91449176,   9.04719945,\n",
       "        -2.32828819,   1.86959382,  -0.72564885,   4.28616868,\n",
       "        11.02223536,  10.30863795,  -1.59879364,  -1.97047767,\n",
       "        -3.56907573,   3.33763714,  10.63731866,  11.2137736 ,\n",
       "         9.73142838,   4.02156675,   9.15545625,  -2.19802594,\n",
       "         5.58489786,  10.49502599,  12.71614865,  -1.01668649,\n",
       "         0.11916502,  -5.63231066,  -4.24988128,  -2.4055241 ,\n",
       "        -1.29098281,  -1.29552557,   7.08952891,   6.35814471,\n",
       "        13.45481222,  -3.68305685,   6.60308885,   6.22161479,\n",
       "        -4.8326936 ,  -3.29688399,   9.57286673,   6.51275284,\n",
       "         6.38316168,   8.93800061,  -4.83713152,  -4.60727232,\n",
       "         5.25844092,   8.3580529 ,   2.57718893,   6.06528632,\n",
       "        -2.88008464,   0.76129843,  -0.65716247,   5.27669491,\n",
       "        -5.50047455,  -2.70088621,   7.94601173,  -5.7887296 ,\n",
       "        -5.42990953,   9.44642918,  -7.30690762,   3.35071015,\n",
       "        11.03476103,   7.89837755,  -4.64795418,  -2.93094035,\n",
       "         7.64284207,  -6.29519484,   6.35636403,   5.46235123,\n",
       "        -2.68666494,   4.69143186,   4.66269862,  -5.7517762 ,\n",
       "        -5.98494706,   6.36669314,  -1.81425052,  -2.96226761,\n",
       "        -1.39463278,  -1.82470952,  10.95634469,  -5.03543616,\n",
       "        10.9469609 ,  -4.12796457,  -4.24947701,  10.83594686,\n",
       "        -4.59883918,   4.27765336,   5.07809235,  -1.54186053,\n",
       "       -11.53416252,   4.52009408,  -3.66534438,   5.07808929,\n",
       "        -3.17030594,  -5.87137205,   2.8762037 ,  11.97988927,\n",
       "         7.4500132 ,  -6.37052906,   4.3709943 ,  -3.47646132,\n",
       "        -2.04265047,  11.53435427,  -5.77956461,  -4.29442383,\n",
       "        10.58368339,   8.58382453,  -3.22180679,   4.38388826,\n",
       "        12.32664923,  11.73040732,   3.97719844,  -3.85790517,\n",
       "         8.69129038,   7.23811254,   8.16118375,  10.17986216,\n",
       "        -7.82455952,  10.8561916 ,   9.04263837,   5.71712591,\n",
       "         7.60084115,  -5.97364221,  -4.01910949,  -2.84354513,\n",
       "        -5.36288806,   2.91649791,   9.30443737,   3.34757221,\n",
       "        -4.98158692,  10.41010882,   8.5232032 ,  -2.08429857,\n",
       "         9.54219399,   5.95676894,   6.81776964,  -3.85128758,\n",
       "        -3.92501387,  11.40349574,  -5.35592862,   5.37703143,\n",
       "        -7.97895365,  -4.45298216,   9.19196787,  -2.11819191,\n",
       "         6.74162691,  -4.99321884,  -6.58921181,   7.05562607,\n",
       "        10.01645647,  -5.69548201,  -9.55180953,  -3.69780369,\n",
       "         4.66869475,   5.72252744,  -2.76069256,  -7.56230415,\n",
       "        -4.59492642,  -0.71578728,  -2.18916044,   5.20840822,\n",
       "        -9.23586332,  -4.87764872,  -3.72590953,  -4.05882797,\n",
       "        -0.88155331,   5.81661034,  -5.38350852,   7.51512826,\n",
       "        -2.94957772,  -4.33384716,  10.58572952,   4.13414806,\n",
       "        -7.84824077,   3.75963327,   5.570969  ,   9.37957142,\n",
       "        -0.05302888,  -3.24108804,  -2.19627952,  12.88886666,\n",
       "         4.35267793,  -7.5291754 ,   2.59217754,   3.52590749,\n",
       "        -0.87504527,   7.48498444,  -4.85679456,  11.01307627,\n",
       "        -1.98177808,   6.38490461,  -1.56756272,  11.88695777])"
      ]
     },
     "execution_count": 65,
     "metadata": {},
     "output_type": "execute_result"
    }
   ],
   "source": [
    "data[0][:,1]"
   ]
  },
  {
   "cell_type": "code",
   "execution_count": 66,
   "metadata": {},
   "outputs": [
    {
     "data": {
      "image/png": "[encoded data removed]",
      "text/plain": [
       "<Figure size 432x288 with 1 Axes>"
      ]
     },
     "metadata": {},
     "output_type": "display_data"
    }
   ],
   "source": [
    "# create scatter plot\n",
    "plt.scatter(data[0][:,0], data[0][:,1], c=data[1], cmap='viridis')\n",
    "plt.xlim(-15,15)\n",
    "plt.ylim(-15,15)\n",
    "plt.show()"
   ]
  },
  {
   "cell_type": "code",
   "execution_count": 67,
   "metadata": {},
   "outputs": [
    {
     "name": "stdout",
     "output_type": "stream",
     "text": [
      "[[-2.40167949 10.17352695]\n",
      " [ 0.05161133 -5.35489826]\n",
      " [-1.92101646  5.21673484]\n",
      " [-5.56465793 -2.34988939]]\n"
     ]
    }
   ],
   "source": [
    "# import KMeans\n",
    "from sklearn.cluster import KMeans\n",
    "# create kmeans object\n",
    "kmeans = KMeans(n_clusters=4)\n",
    "# fit kmeans object to data\n",
    "kmeans.fit(data[0])\n",
    "# print location of clusters learned by kmeans object\n",
    "print(kmeans.cluster_centers_)\n",
    "# save new clusters for chart\n",
    "y_km = kmeans.fit_predict(data[0])"
   ]
  },
  {
   "cell_type": "code",
   "execution_count": 69,
   "metadata": {},
   "outputs": [
    {
     "data": {
      "image/png": "[encoded data removed]",
      "text/plain": [
       "<Figure size 432x288 with 1 Axes>"
      ]
     },
     "metadata": {},
     "output_type": "display_data"
    }
   ],
   "source": [
    "plt.xlim(-15,15)\n",
    "plt.ylim(-15,15)\n",
    "plt.scatter(data[0][y_km ==0,0], data[0][y_km == 0,1], c='red')\n",
    "plt.scatter(data[0][y_km ==1,0], data[0][y_km == 1,1], c='yellow')\n",
    "plt.scatter(data[0][y_km ==2,0], data[0][y_km == 2,1], c='blue')\n",
    "plt.scatter(data[0][y_km ==3,0], data[0][y_km == 3,1], c='green')\n",
    "plt.show()"
   ]
  }
 ],
 "metadata": {
  "kernelspec": {
   "display_name": "Python 3",
   "language": "python",
   "name": "python3"
  },
  "language_info": {
   "codemirror_mode": {
    "name": "ipython",
    "version": 3
   },
   "file_extension": ".py",
   "mimetype": "text/x-python",
   "name": "python",
   "nbconvert_exporter": "python",
   "pygments_lexer": "ipython3",
   "version": "3.6.5"
  }
 },
 "nbformat": 4,
 "nbformat_minor": 2
}
